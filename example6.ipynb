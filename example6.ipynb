{
 "cells": [
  {
   "cell_type": "markdown",
   "id": "dde2e4e9",
   "metadata": {},
   "source": [
    "# MATEMATİKSEL OPERATÖRLER"
   ]
  },
  {
   "cell_type": "markdown",
   "id": "89f789bd",
   "metadata": {},
   "source": [
    "        OPERATÖR      AÇIKLAMA            ÖRNEK        SONUÇ\n",
    "            +          Toplama            9 + 2         11\n",
    "            -          Çıkarma            9 - 2         7\n",
    "            *          Çarpma             9 * 2         18\n",
    "            /          Bölme              9 / 2         4.5\n",
    "            %          Mod alma           9 % 2         1\n",
    "           **          Üs alma            9 ** 2        81\n",
    "           //          Tam Bölme          9 // 2        4"
   ]
  },
  {
   "cell_type": "markdown",
   "id": "957e92e0",
   "metadata": {},
   "source": [
    "# ATAMA OPERATÖRLERİ"
   ]
  },
  {
   "cell_type": "markdown",
   "id": "e6612520",
   "metadata": {},
   "source": [
    "        OPERATÖR      ÖRNEK        UZUN KULLANIMI\n",
    "            =         x = 2            x = 2 \n",
    "            +=        x += 2          x = x + 2\n",
    "            -=        x -= 2          x = x - 2\n",
    "            *=        x *= 2          x = x * 2\n",
    "            /=        x /= 2          x = x / 2\n",
    "            %=        x %= 2          x = x % 2\n",
    "           //=        x //= 2         x = x // 2\n",
    "           **=        x **= 2         x = x ** 2 \n",
    "        "
   ]
  },
  {
   "cell_type": "markdown",
   "id": "038cde16",
   "metadata": {},
   "source": [
    "# KARŞILAŞTIRMA OPERATÖRLERİ"
   ]
  },
  {
   "cell_type": "markdown",
   "id": "056de5c6",
   "metadata": {},
   "source": [
    "         OPERATÖR      AÇIKLAMA                   ÖRNEK        SONUÇ\n",
    "            ==          \"eşit mi?\"                5 == 5       True\n",
    "                                                  5 == 8       False \n",
    "            !=          \"eşit değil mi?\"          5 != 8       True\n",
    "                                                  5 != 5       False\n",
    "            >           \"büyük mü?\"               5 > 8        False\n",
    "            <           \"küçük mü?\"               5 < 8        True \n",
    "            >=          \"büyük veya eşit mi?\"     5 >= 8       False\n",
    "            <=          \"küçük veya eşit mi?\"     5 <= 8       True\n",
    "            "
   ]
  },
  {
   "cell_type": "markdown",
   "id": "22e985da",
   "metadata": {},
   "source": [
    "# MANTIKSAL OPERATÖRLER"
   ]
  },
  {
   "cell_type": "markdown",
   "id": "7cd92b32",
   "metadata": {},
   "source": [
    "         OPERATÖR      AÇIKLAMA                                                  ÖRNEK (x = 4)            SONUÇ\n",
    "           and         Her iki ifade de doğruysa True,                           x < 5 and x < 10        True\n",
    "                       İfadelerden biri veya her ikisi de yanlışsa False.        x < 5 and x > 10        False\n",
    "           \n",
    "           or          İfadelerden herhangi bir veya her ikisi doğru ise True,   x < 5 or x < 4          True\n",
    "                       İfadelerin her ikisi de yanlışsa False.                   x > 5 or x > 4          False\n",
    "                       \n",
    "           not         Sonucu değiştirir. İçindeki ifade doğruysa False,         not(x < 5 and x < 10)   False           \n",
    "                       İçindeki ifade yanlışsa True.                             not(x < 5 and x > 10)   True\n"
   ]
  },
  {
   "cell_type": "markdown",
   "id": "f5c230c2",
   "metadata": {},
   "source": [
    "# KİMLİK OPERATÖRLER"
   ]
  },
  {
   "cell_type": "markdown",
   "id": "afef7abc",
   "metadata": {},
   "source": [
    "         OPERATÖR      AÇIKLAMA                                                  ÖRNEK (x = 4, y = 10, z = 4)    SONUÇ\n",
    "           is          Karşılaştırdığı değişkenlerin aynı nesneyi işaret edip    x is y                          False   \n",
    "                       etmediklerini sorgular.                                   x is z                          True\n",
    "                       \n",
    "           is not      is operatörünün tersidir.                                 x is not y                      True\n",
    "                                                                                 x is not z                      False\n",
    "                                                                                 "
   ]
  },
  {
   "cell_type": "markdown",
   "id": "e140a38b",
   "metadata": {},
   "source": [
    "# ÜYELİK OPERATÖRLERİ"
   ]
  },
  {
   "cell_type": "markdown",
   "id": "6ec2d587",
   "metadata": {},
   "source": [
    "meyveler = [\"elma\", \"armut\", \"çilek\"]\n",
    "\n",
    "         OPERATÖR      AÇIKLAMA                      ÖRNEK                   SONUÇ\n",
    "           in          İçinde varsa True            \"armut\" in meyveler      True\n",
    "                       İçinde yoksa False           \"muz\" in meyveler        False\n",
    "                       \n",
    "           not in      İçinde yoksa True            \"karpuz\" not in meyveler True\n",
    "                       İçinde varsa False           \"çilek\" not in meyveler  False"
   ]
  }
 ],
 "metadata": {
  "kernelspec": {
   "display_name": "Python 3 (ipykernel)",
   "language": "python",
   "name": "python3"
  },
  "language_info": {
   "codemirror_mode": {
    "name": "ipython",
    "version": 3
   },
   "file_extension": ".py",
   "mimetype": "text/x-python",
   "name": "python",
   "nbconvert_exporter": "python",
   "pygments_lexer": "ipython3",
   "version": "3.11.1"
  }
 },
 "nbformat": 4,
 "nbformat_minor": 5
}
